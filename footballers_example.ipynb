{
 "cells": [
  {
   "cell_type": "code",
   "execution_count": null,
   "metadata": {},
   "outputs": [],
   "source": [
    "\"\"\"\n",
    "Script: application of some concepts of \n",
    "graph theory to a footballers example\n",
    "\"\"\""
   ]
  },
  {
   "cell_type": "code",
   "execution_count": null,
   "metadata": {},
   "outputs": [],
   "source": [
    "import networkx as nx\n",
    "import matplotlib.pyplot as plt"
   ]
  },
  {
   "cell_type": "code",
   "execution_count": null,
   "metadata": {},
   "outputs": [],
   "source": [
    "# create a graph\n",
    "G = nx.Graph()"
   ]
  },
  {
   "cell_type": "code",
   "execution_count": null,
   "metadata": {},
   "outputs": [],
   "source": [
    "# create dictionary of footballers\n",
    "jugadores = dict()\n",
    "jugadores['Iker Casillas'] = 1\n",
    "jugadores['Raúl Albiol'] = 2\n",
    "jugadores['Gerard Piqué'] = 3\n",
    "jugadores['Carlos Marchena'] = 4\n",
    "jugadores['Carles Puyol'] = 5\n",
    "jugadores['Andrés Iniesta'] = 6"
   ]
  },
  {
   "cell_type": "code",
   "execution_count": null,
   "metadata": {},
   "outputs": [],
   "source": [
    "# add nodes and edges to Graph\n",
    "G.add_edges_from([(jugadores['Iker Casillas'], \n",
    "                   jugadores['Raúl Albiol'],{'num_pases':30})])\n",
    "G.add_edges_from([(jugadores['Iker Casillas'], \n",
    "                   jugadores['Gerard Piqué'],{'num_pases':2})])\n",
    "G.add_edges_from([(jugadores['Carlos Marchena'], \n",
    "                   jugadores['Gerard Piqué'],{'num_pases':3})])\n",
    "G.add_edges_from([(jugadores['Carles Puyol'], \n",
    "                   jugadores['Gerard Piqué'],{'num_pases':1})])\n",
    "G.add_edges_from([(jugadores['Raúl Albiol'], \n",
    "                   jugadores['Gerard Piqué'],{'num_pases':4})])\n",
    "G.add_edges_from([(jugadores['Andrés Iniesta'], \n",
    "                   jugadores['Carles Puyol'],{'num_pases':26})])\n",
    "G.add_edges_from([(jugadores['Iker Casillas'], \n",
    "                   jugadores['Andrés Iniesta'],{'num_pases':12})])"
   ]
  },
  {
   "cell_type": "code",
   "execution_count": null,
   "metadata": {},
   "outputs": [],
   "source": [
    "# drawing the graph\n",
    "nx.draw_shell(G, with_labels=True, font_weight='bold')"
   ]
  },
  {
   "cell_type": "code",
   "execution_count": null,
   "metadata": {},
   "outputs": [],
   "source": [
    "# change the order of footballers dictionary\n",
    "n_jugadores = {jugadores[x]:x for x in jugadores}\n",
    "jugadores = n_jugadores"
   ]
  },
  {
   "cell_type": "code",
   "execution_count": null,
   "metadata": {},
   "outputs": [],
   "source": [
    "# extract degree centrality\n",
    "degree = nx.degree_centrality(G)\n",
    "degree = {jugadores[x]:degree[x] for x in degree}\n",
    "degree"
   ]
  },
  {
   "cell_type": "code",
   "execution_count": null,
   "metadata": {},
   "outputs": [],
   "source": [
    "# extract closeness centrality\n",
    "closeness = nx.closeness_centrality(G)\n",
    "closeness = {jugadores[x]:closeness[x] for x in closeness}\n",
    "closeness"
   ]
  },
  {
   "cell_type": "code",
   "execution_count": null,
   "metadata": {},
   "outputs": [],
   "source": [
    "# extract closeness centrality whit weight\n",
    "closeness = nx.closeness_centrality(G, distance='num_pases')\n",
    "closeness = {jugadores[x]:closeness[x] for x in closeness}\n",
    "closeness"
   ]
  }
 ],
 "metadata": {
  "kernelspec": {
   "display_name": "Python 3",
   "language": "python",
   "name": "python3"
  },
  "language_info": {
   "codemirror_mode": {
    "name": "ipython",
    "version": 3
   },
   "file_extension": ".py",
   "mimetype": "text/x-python",
   "name": "python",
   "nbconvert_exporter": "python",
   "pygments_lexer": "ipython3",
   "version": "3.6.4"
  }
 },
 "nbformat": 4,
 "nbformat_minor": 2
}
